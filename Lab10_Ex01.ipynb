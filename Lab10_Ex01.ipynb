{
 "cells": [
  {
   "cell_type": "markdown",
   "metadata": {},
   "source": [
    "# Lab 10  Class Part III\n"
   ]
  },
  {
   "cell_type": "markdown",
   "metadata": {},
   "source": [
    "## Ex01  การใช้งาน Property พื้นฐาน (get/set)"
   ]
  },
  {
   "cell_type": "code",
   "execution_count": 1,
   "metadata": {
    "dotnet_interactive": {
     "language": "csharp"
    },
    "polyglot_notebook": {
     "kernelName": "csharp"
    },
    "vscode": {
     "languageId": "csharp"
    }
   },
   "outputs": [
    {
     "data": {
      "text/html": [
       "\r\n",
       "<div>\r\n",
       "    <div id='dotnet-interactive-this-cell-9944.Microsoft.DotNet.Interactive.Http.HttpPort' style='display: none'>\r\n",
       "        The below script needs to be able to find the current output cell; this is an easy method to get it.\r\n",
       "    </div>\r\n",
       "    <script type='text/javascript'>\r\n",
       "async function probeAddresses(probingAddresses) {\r\n",
       "    function timeout(ms, promise) {\r\n",
       "        return new Promise(function (resolve, reject) {\r\n",
       "            setTimeout(function () {\r\n",
       "                reject(new Error('timeout'))\r\n",
       "            }, ms)\r\n",
       "            promise.then(resolve, reject)\r\n",
       "        })\r\n",
       "    }\r\n",
       "\r\n",
       "    if (Array.isArray(probingAddresses)) {\r\n",
       "        for (let i = 0; i < probingAddresses.length; i++) {\r\n",
       "\r\n",
       "            let rootUrl = probingAddresses[i];\r\n",
       "\r\n",
       "            if (!rootUrl.endsWith('/')) {\r\n",
       "                rootUrl = `${rootUrl}/`;\r\n",
       "            }\r\n",
       "\r\n",
       "            try {\r\n",
       "                let response = await timeout(1000, fetch(`${rootUrl}discovery`, {\r\n",
       "                    method: 'POST',\r\n",
       "                    cache: 'no-cache',\r\n",
       "                    mode: 'cors',\r\n",
       "                    timeout: 1000,\r\n",
       "                    headers: {\r\n",
       "                        'Content-Type': 'text/plain'\r\n",
       "                    },\r\n",
       "                    body: probingAddresses[i]\r\n",
       "                }));\r\n",
       "\r\n",
       "                if (response.status == 200) {\r\n",
       "                    return rootUrl;\r\n",
       "                }\r\n",
       "            }\r\n",
       "            catch (e) { }\r\n",
       "        }\r\n",
       "    }\r\n",
       "}\r\n",
       "\r\n",
       "function loadDotnetInteractiveApi() {\r\n",
       "    probeAddresses([\"http://192.168.14.11:2048/\", \"http://127.0.0.1:2048/\"])\r\n",
       "        .then((root) => {\r\n",
       "        // use probing to find host url and api resources\r\n",
       "        // load interactive helpers and language services\r\n",
       "        let dotnetInteractiveRequire = require.config({\r\n",
       "        context: '9944.Microsoft.DotNet.Interactive.Http.HttpPort',\r\n",
       "                paths:\r\n",
       "            {\r\n",
       "                'dotnet-interactive': `${root}resources`\r\n",
       "                }\r\n",
       "        }) || require;\r\n",
       "\r\n",
       "            window.dotnetInteractiveRequire = dotnetInteractiveRequire;\r\n",
       "\r\n",
       "            window.configureRequireFromExtension = function(extensionName, extensionCacheBuster) {\r\n",
       "                let paths = {};\r\n",
       "                paths[extensionName] = `${root}extensions/${extensionName}/resources/`;\r\n",
       "                \r\n",
       "                let internalRequire = require.config({\r\n",
       "                    context: extensionCacheBuster,\r\n",
       "                    paths: paths,\r\n",
       "                    urlArgs: `cacheBuster=${extensionCacheBuster}`\r\n",
       "                    }) || require;\r\n",
       "\r\n",
       "                return internalRequire\r\n",
       "            };\r\n",
       "        \r\n",
       "            dotnetInteractiveRequire([\r\n",
       "                    'dotnet-interactive/dotnet-interactive'\r\n",
       "                ],\r\n",
       "                function (dotnet) {\r\n",
       "                    dotnet.init(window);\r\n",
       "                },\r\n",
       "                function (error) {\r\n",
       "                    console.log(error);\r\n",
       "                }\r\n",
       "            );\r\n",
       "        })\r\n",
       "        .catch(error => {console.log(error);});\r\n",
       "    }\r\n",
       "\r\n",
       "// ensure `require` is available globally\r\n",
       "if ((typeof(require) !==  typeof(Function)) || (typeof(require.config) !== typeof(Function))) {\r\n",
       "    let require_script = document.createElement('script');\r\n",
       "    require_script.setAttribute('src', 'https://cdnjs.cloudflare.com/ajax/libs/require.js/2.3.6/require.min.js');\r\n",
       "    require_script.setAttribute('type', 'text/javascript');\r\n",
       "    \r\n",
       "    \r\n",
       "    require_script.onload = function() {\r\n",
       "        loadDotnetInteractiveApi();\r\n",
       "    };\r\n",
       "\r\n",
       "    document.getElementsByTagName('head')[0].appendChild(require_script);\r\n",
       "}\r\n",
       "else {\r\n",
       "    loadDotnetInteractiveApi();\r\n",
       "}\r\n",
       "\r\n",
       "    </script>\r\n",
       "</div>"
      ]
     },
     "metadata": {},
     "output_type": "display_data"
    }
   ],
   "source": [
    "public class Book  // ต้องสร้างคลาส เนื่องจาก property ต้องอยู่ภายในคลาสเท่านั้น\n",
    "{\n",
    "    private string _title; // field ที่เป็นตัวเก็บข้อมูล ควรมี modifier เป็น private\n",
    "\n",
    "    public string Title    // property ทำหน้าที่เปิดเผย (รับ-ส่ง) ข้อมูลระหว่าง ภายในคลาส - โลกภายนอก\n",
    "    {\n",
    "        get { return _title; }\n",
    "        set { _title = value; }\n",
    "    }\n",
    "}"
   ]
  },
  {
   "cell_type": "markdown",
   "metadata": {},
   "source": [
    "การใช้งาน property ต้องทำผ่าน object ที่สร้างจากคลาส \n",
    "\n",
    "__ใน polyglot notebook ถ้าเรียกใช้ class จากต่าง code cell ต้องรัน code cell ของคลาสนั้นก่อนเสมอ__"
   ]
  },
  {
   "cell_type": "code",
   "execution_count": 2,
   "metadata": {
    "dotnet_interactive": {
     "language": "csharp"
    },
    "polyglot_notebook": {
     "kernelName": "csharp"
    },
    "vscode": {
     "languageId": "csharp"
    }
   },
   "outputs": [
    {
     "name": "stdout",
     "output_type": "stream",
     "text": [
      "Object Oriented Programming\n"
     ]
    }
   ],
   "source": [
    "using static System.Console;    // ใช้บรรทัดนี้ เพื่อไม่ต้องเขียน Console.WriteLine() เขียนแค่ WriteLine() ก็พอ \n",
    "\n",
    "Book b = new Book();            // สร้าง  object จาก book\n",
    "\n",
    "b.Title = \"Object Oriented Programming\"; // กำหนดค่าให้ property 'Title'\n",
    "\n",
    "WriteLine(b.Title);"
   ]
  },
  {
   "cell_type": "markdown",
   "metadata": {},
   "source": [
    "### เจาะลึกการทำงานของ property"
   ]
  },
  {
   "cell_type": "markdown",
   "metadata": {},
   "source": [
    "แก้ไขโค้ดในคลาส Book เพื่อเพิ่มข้อความรายงานการทำงานภายใน getter และ setter"
   ]
  },
  {
   "cell_type": "code",
   "execution_count": 3,
   "metadata": {
    "dotnet_interactive": {
     "language": "csharp"
    },
    "polyglot_notebook": {
     "kernelName": "csharp"
    },
    "vscode": {
     "languageId": "csharp"
    }
   },
   "outputs": [],
   "source": [
    "public class Book  // ต้องสร้างคลาส เนื่องจาก property ต้องอยู่ภายในคลาสเท่านั้น\n",
    "{\n",
    "    private string _title; // field ที่เป็นตัวเก็บข้อมูล ควรมี modifier เป็น private\n",
    "\n",
    "    public string Title    // property ทำหน้าที่เปิดเผย (รับ-ส่ง) ข้อมูลระหว่าง ภายในคลาส - โลกภายนอก\n",
    "    {\n",
    "        get \n",
    "        {\n",
    "            WriteLine($\"[Getter] Value in the field '_title' = {_title}\");\n",
    "            return _title; \n",
    "        }\n",
    "        set \n",
    "        { \n",
    "            WriteLine($\"[Setter] Value in the 'value' = {value}\");\n",
    "            _title = value; \n",
    "            WriteLine($\"[Setter]Value in the field '_title' = {_title}\");\n",
    "        }\n",
    "    }\n",
    "}"
   ]
  },
  {
   "cell_type": "code",
   "execution_count": 4,
   "metadata": {
    "dotnet_interactive": {
     "language": "csharp"
    },
    "polyglot_notebook": {
     "kernelName": "csharp"
    },
    "vscode": {
     "languageId": "csharp"
    }
   },
   "outputs": [
    {
     "name": "stdout",
     "output_type": "stream",
     "text": [
      "[Main] Operator = will call the setter\n",
      "[Setter] Value in the 'value' = Object Oriented Programming\n",
      "[Setter]Value in the field '_title' = Object Oriented Programming\n",
      "\n",
      "[Main] WriteLine will call the getter\n",
      "[Getter] Value in the field '_title' = Object Oriented Programming\n",
      "Object Oriented Programming\n"
     ]
    }
   ],
   "source": [
    "Book b = new Book();            // สร้าง  object จาก book\n",
    "\n",
    "\n",
    "WriteLine($\"[Main] Operator = will call the setter\");\n",
    "b.Title = \"Object Oriented Programming\"; // กำหนดค่าให้ property 'Title'\n",
    "\n",
    "\n",
    "WriteLine($\"\\n[Main] WriteLine will call the getter\");\n",
    "WriteLine(b.Title);\n"
   ]
  },
  {
   "cell_type": "markdown",
   "metadata": {},
   "source": [
    "Setter (คือการกำหนดค่าให้กับ property) จะถูกเรียกใช้ก็ต่อเมื่อ\n",
    "- property อยู่ซ้ายของเครื่องหมาย =\n",
    "- สิ่งที่จะป้อนให้ property อยู่ด้านขวาของเครื่องหมาย   ="
   ]
  },
  {
   "cell_type": "code",
   "execution_count": 5,
   "metadata": {
    "dotnet_interactive": {
     "language": "csharp"
    },
    "polyglot_notebook": {
     "kernelName": "csharp"
    },
    "vscode": {
     "languageId": "csharp"
    }
   },
   "outputs": [
    {
     "name": "stdout",
     "output_type": "stream",
     "text": [
      "[Setter] Value in the 'value' = Network Programming\n",
      "[Setter]Value in the field '_title' = Network Programming\n"
     ]
    }
   ],
   "source": [
    "b.Title = \"Network Programming\";"
   ]
  },
  {
   "cell_type": "markdown",
   "metadata": {},
   "source": [
    "Getter (คือการดึงค่าจาก property) จะถูกเรียกใช้ก็ต่อเมื่อ\n",
    "- property อยู่ขวาของเครื่องหมาย =\n",
    "- สิ่งที่จะรับค่าจาก property อยู่ด้านซ้ายของเครื่องหมาย   ="
   ]
  },
  {
   "cell_type": "code",
   "execution_count": 6,
   "metadata": {
    "dotnet_interactive": {
     "language": "csharp"
    },
    "polyglot_notebook": {
     "kernelName": "csharp"
    },
    "vscode": {
     "languageId": "csharp"
    }
   },
   "outputs": [
    {
     "name": "stdout",
     "output_type": "stream",
     "text": [
      "[Getter] Value in the field '_title' = Network Programming\n"
     ]
    }
   ],
   "source": [
    "var bookTitle = b.Title;"
   ]
  }
 ],
 "metadata": {
  "kernelspec": {
   "display_name": ".NET (C#)",
   "language": "C#",
   "name": ".net-csharp"
  },
  "language_info": {
   "file_extension": ".cs",
   "mimetype": "text/x-csharp",
   "name": "C#",
   "pygments_lexer": "csharp",
   "version": "12.0"
  },
  "polyglot_notebook": {
   "kernelInfo": {
    "defaultKernelName": "csharp",
    "items": [
     {
      "aliases": [],
      "languageName": "csharp",
      "name": "csharp"
     }
    ]
   }
  }
 },
 "nbformat": 4,
 "nbformat_minor": 2
}
