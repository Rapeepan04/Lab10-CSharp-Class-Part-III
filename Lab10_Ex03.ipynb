{
 "cells": [
  {
   "cell_type": "markdown",
   "metadata": {},
   "source": [
    "# Lab 10  Class Part III\n"
   ]
  },
  {
   "cell_type": "markdown",
   "metadata": {},
   "source": [
    "## Ex03  การใช้งาน Property พร้อม Backing Field และการตรวจสอบค่า"
   ]
  },
  {
   "cell_type": "markdown",
   "metadata": {},
   "source": [
    "ในการใช้งานวัตถุบางประเภท อาจจะต้องมีการตรวจสอบค่าหรือสถานะปัจจุบันของวัตถุนั้น ถ้าค่าที่ป้อนเข้าไปใหม่ตรงกับค่าที่เป็นปัจจุบัน ก็ไม่ต้องมีการดำเนินการเปลี่ยนแปลง\n",
    "- ถ้าหลอดไฟเปิดอยู่ ก็ไม่ต้องเปิดซ้ำ\n",
    "- ถ้ากำลังดาวน์โหลดไฟล์นั้นอยู่ ก็ไม่ต้องเริ่มดาวน์โหลดอีกรอบ\n",
    "- ถ้าค่าที่ป้อนเข้ามาไม่อยู่ในขอบเขตของ field ที่กำหนด ก็ไม่ต้องเขียนลงไปใน field\n",
    "\n",
    "นับเป็นการควบคุมความปลอดภัยและเพิ่มประสิทธิภาพในการทำงานของคลาสได้"
   ]
  },
  {
   "cell_type": "markdown",
   "metadata": {},
   "source": [
    "### การทดลองย่อย 10.3.1 Backing Field ทั่วไป"
   ]
  },
  {
   "cell_type": "code",
   "execution_count": 1,
   "metadata": {
    "dotnet_interactive": {
     "language": "csharp"
    },
    "polyglot_notebook": {
     "kernelName": "csharp"
    },
    "vscode": {
     "languageId": "csharp"
    }
   },
   "outputs": [
    {
     "data": {
      "text/html": [
       "\r\n",
       "<div>\r\n",
       "    <div id='dotnet-interactive-this-cell-13472.Microsoft.DotNet.Interactive.Http.HttpPort' style='display: none'>\r\n",
       "        The below script needs to be able to find the current output cell; this is an easy method to get it.\r\n",
       "    </div>\r\n",
       "    <script type='text/javascript'>\r\n",
       "async function probeAddresses(probingAddresses) {\r\n",
       "    function timeout(ms, promise) {\r\n",
       "        return new Promise(function (resolve, reject) {\r\n",
       "            setTimeout(function () {\r\n",
       "                reject(new Error('timeout'))\r\n",
       "            }, ms)\r\n",
       "            promise.then(resolve, reject)\r\n",
       "        })\r\n",
       "    }\r\n",
       "\r\n",
       "    if (Array.isArray(probingAddresses)) {\r\n",
       "        for (let i = 0; i < probingAddresses.length; i++) {\r\n",
       "\r\n",
       "            let rootUrl = probingAddresses[i];\r\n",
       "\r\n",
       "            if (!rootUrl.endsWith('/')) {\r\n",
       "                rootUrl = `${rootUrl}/`;\r\n",
       "            }\r\n",
       "\r\n",
       "            try {\r\n",
       "                let response = await timeout(1000, fetch(`${rootUrl}discovery`, {\r\n",
       "                    method: 'POST',\r\n",
       "                    cache: 'no-cache',\r\n",
       "                    mode: 'cors',\r\n",
       "                    timeout: 1000,\r\n",
       "                    headers: {\r\n",
       "                        'Content-Type': 'text/plain'\r\n",
       "                    },\r\n",
       "                    body: probingAddresses[i]\r\n",
       "                }));\r\n",
       "\r\n",
       "                if (response.status == 200) {\r\n",
       "                    return rootUrl;\r\n",
       "                }\r\n",
       "            }\r\n",
       "            catch (e) { }\r\n",
       "        }\r\n",
       "    }\r\n",
       "}\r\n",
       "\r\n",
       "function loadDotnetInteractiveApi() {\r\n",
       "    probeAddresses([\"http://192.168.14.11:2050/\", \"http://127.0.0.1:2050/\"])\r\n",
       "        .then((root) => {\r\n",
       "        // use probing to find host url and api resources\r\n",
       "        // load interactive helpers and language services\r\n",
       "        let dotnetInteractiveRequire = require.config({\r\n",
       "        context: '13472.Microsoft.DotNet.Interactive.Http.HttpPort',\r\n",
       "                paths:\r\n",
       "            {\r\n",
       "                'dotnet-interactive': `${root}resources`\r\n",
       "                }\r\n",
       "        }) || require;\r\n",
       "\r\n",
       "            window.dotnetInteractiveRequire = dotnetInteractiveRequire;\r\n",
       "\r\n",
       "            window.configureRequireFromExtension = function(extensionName, extensionCacheBuster) {\r\n",
       "                let paths = {};\r\n",
       "                paths[extensionName] = `${root}extensions/${extensionName}/resources/`;\r\n",
       "                \r\n",
       "                let internalRequire = require.config({\r\n",
       "                    context: extensionCacheBuster,\r\n",
       "                    paths: paths,\r\n",
       "                    urlArgs: `cacheBuster=${extensionCacheBuster}`\r\n",
       "                    }) || require;\r\n",
       "\r\n",
       "                return internalRequire\r\n",
       "            };\r\n",
       "        \r\n",
       "            dotnetInteractiveRequire([\r\n",
       "                    'dotnet-interactive/dotnet-interactive'\r\n",
       "                ],\r\n",
       "                function (dotnet) {\r\n",
       "                    dotnet.init(window);\r\n",
       "                },\r\n",
       "                function (error) {\r\n",
       "                    console.log(error);\r\n",
       "                }\r\n",
       "            );\r\n",
       "        })\r\n",
       "        .catch(error => {console.log(error);});\r\n",
       "    }\r\n",
       "\r\n",
       "// ensure `require` is available globally\r\n",
       "if ((typeof(require) !==  typeof(Function)) || (typeof(require.config) !== typeof(Function))) {\r\n",
       "    let require_script = document.createElement('script');\r\n",
       "    require_script.setAttribute('src', 'https://cdnjs.cloudflare.com/ajax/libs/require.js/2.3.6/require.min.js');\r\n",
       "    require_script.setAttribute('type', 'text/javascript');\r\n",
       "    \r\n",
       "    \r\n",
       "    require_script.onload = function() {\r\n",
       "        loadDotnetInteractiveApi();\r\n",
       "    };\r\n",
       "\r\n",
       "    document.getElementsByTagName('head')[0].appendChild(require_script);\r\n",
       "}\r\n",
       "else {\r\n",
       "    loadDotnetInteractiveApi();\r\n",
       "}\r\n",
       "\r\n",
       "    </script>\r\n",
       "</div>"
      ]
     },
     "metadata": {},
     "output_type": "display_data"
    }
   ],
   "source": [
    "public class Person\n",
    "{\n",
    "    private string _name;\n",
    "\n",
    "    public string Name\n",
    "    {\n",
    "        get { return _name; }\n",
    "        set { _name = value; }\n",
    "    }\n",
    "}"
   ]
  },
  {
   "cell_type": "markdown",
   "metadata": {},
   "source": [
    "ให้เขียน code เพื่อทำงานดังนี้\n",
    "1. สร้าง object  'p' จากคลาส Person\n",
    "2. กำหนดชื่อให้ 'p' ผ่าน property 'Name'\n",
    "3. แสดงชื่อของ p โดยเมธอด WriteLine()"
   ]
  },
  {
   "cell_type": "code",
   "execution_count": 3,
   "metadata": {
    "dotnet_interactive": {
     "language": "csharp"
    },
    "polyglot_notebook": {
     "kernelName": "csharp"
    },
    "vscode": {
     "languageId": "csharp"
    }
   },
   "outputs": [
    {
     "name": "stdout",
     "output_type": "stream",
     "text": [
      "รพี\n"
     ]
    },
    {
     "name": "stderr",
     "output_type": "stream",
     "text": [
      "\n",
      "(8,20): warning CS0649: Field 'Person._name' is never assigned to, and will always have its default value null\n",
      "\n"
     ]
    }
   ],
   "source": [
    "using static System.Console;\n",
    "public class Person\n",
    "{\n",
    "    // Property ชื่อ Name\n",
    "    public string Name { get; set; }\n",
    "\n",
    "    // ฟิลด์ _name (private)\n",
    "    private string _name;\n",
    "\n",
    "    // ตัวอย่างการใช้ _name (ถ้าต้องการ)\n",
    "    public string GetName()\n",
    "    {\n",
    "        return _name;\n",
    "    }\n",
    "}\n",
    "\n",
    "Person p = new(); // สร้าง object ชื่อ p จากคลาส Person\n",
    "\n",
    "p.Name = \"รพี\"; // กำหนดชื่อให้ p ผ่าน property Name\n",
    "\n",
    "WriteLine(p.Name); // แสดงชื่อของ p โดยใช้ property Name"
   ]
  },
  {
   "cell_type": "markdown",
   "metadata": {},
   "source": [
    "### การทดลองย่อย 10.3.2 Backing Field พร้อมการตรวจสอบค่า"
   ]
  },
  {
   "cell_type": "code",
   "execution_count": 4,
   "metadata": {
    "dotnet_interactive": {
     "language": "csharp"
    },
    "polyglot_notebook": {
     "kernelName": "csharp"
    },
    "vscode": {
     "languageId": "csharp"
    }
   },
   "outputs": [],
   "source": [
    "public class Lamp\n",
    "{\n",
    "    private bool _isOn; // backing field \n",
    "\n",
    "    public bool IsOn\n",
    "    {\n",
    "        get { return _isOn; } \n",
    "        set\n",
    "        {\n",
    "            if (value) \n",
    "            {\n",
    "                _isOn = value; \n",
    "            }\n",
    "        }\n",
    "    }\n",
    "}"
   ]
  },
  {
   "cell_type": "markdown",
   "metadata": {},
   "source": [
    "การใช้งาน (ต้องรัน code cell ด้านบนก่อน)"
   ]
  },
  {
   "cell_type": "code",
   "execution_count": 5,
   "metadata": {
    "dotnet_interactive": {
     "language": "csharp"
    },
    "polyglot_notebook": {
     "kernelName": "csharp"
    },
    "vscode": {
     "languageId": "csharp"
    }
   },
   "outputs": [
    {
     "name": "stdout",
     "output_type": "stream",
     "text": [
      "True\n"
     ]
    }
   ],
   "source": [
    "Lamp myLamp = new Lamp();\n",
    "\n",
    "// เปิดไฟ\n",
    "myLamp.IsOn = true;\n",
    "Console.WriteLine(myLamp.IsOn); // Output: True"
   ]
  },
  {
   "cell_type": "code",
   "execution_count": 6,
   "metadata": {
    "dotnet_interactive": {
     "language": "csharp"
    },
    "polyglot_notebook": {
     "kernelName": "csharp"
    },
    "vscode": {
     "languageId": "csharp"
    }
   },
   "outputs": [
    {
     "name": "stdout",
     "output_type": "stream",
     "text": [
      "True\n"
     ]
    }
   ],
   "source": [
    "myLamp.IsOn = false; // พยายามปิดไฟ  แต่ไม่มีผล เนื่องจาก property นี้จะรับเฉพาะค่า true เท่านั้น \n",
    "Console.WriteLine(myLamp.IsOn); // Output: True"
   ]
  },
  {
   "cell_type": "markdown",
   "metadata": {},
   "source": [
    "### การทดลองย่อย 10.3.2 Backing Field พร้อมการตรวจสอบค่า"
   ]
  },
  {
   "cell_type": "markdown",
   "metadata": {},
   "source": [
    "```csharp\n",
    "public class Product\n",
    "{\n",
    "    private decimal _price;\n",
    "\n",
    "    public decimal Price\n",
    "    {\n",
    "        get { return _price; }\n",
    "        set\n",
    "        {\n",
    "            if (value >= 0)\n",
    "            {\n",
    "                _price = value;\n",
    "            }\n",
    "        }\n",
    "    }\n",
    "}\n",
    "```"
   ]
  },
  {
   "cell_type": "markdown",
   "metadata": {},
   "source": [
    "ให้เขียน code เพื่อทำงานดังนี้\n",
    "1. สร้าง object  จากคลาส Product\n",
    "2. กำหนดค่าให้กับ Produbt.Price โดยให้ค่าไม่น้อยกว่า 0 \n",
    "3. แสดง  Produbt.Price  โดยเมธอด WriteLine()"
   ]
  },
  {
   "cell_type": "code",
   "execution_count": 8,
   "metadata": {
    "dotnet_interactive": {
     "language": "csharp"
    },
    "polyglot_notebook": {
     "kernelName": "csharp"
    },
    "vscode": {
     "languageId": "csharp"
    }
   },
   "outputs": [
    {
     "name": "stdout",
     "output_type": "stream",
     "text": [
      "ราคา: 299\n"
     ]
    }
   ],
   "source": [
    "// พื้นที่เขียน code\n",
    "public class Product\n",
    "{\n",
    "    private decimal _price;\n",
    "\n",
    "    public decimal Price\n",
    "    {\n",
    "        get => _price;\n",
    "        set\n",
    "        {\n",
    "            if (value < 0)\n",
    "            {\n",
    "                throw new ArgumentOutOfRangeException(\"ราคาต้องไม่น้อยกว่า 0\");\n",
    "            }\n",
    "\n",
    "            _price = value;\n",
    "        }\n",
    "    }\n",
    "}\n",
    "\n",
    "Product product = new();\n",
    "\n",
    "product.Price = 299; // กำหนดราคา\n",
    "\n",
    "WriteLine($\"ราคา: {product.Price}\"); // แสดงราคา"
   ]
  },
  {
   "cell_type": "markdown",
   "metadata": {},
   "source": [
    "ให้เขียน code เพื่อทำงานดังนี้\n",
    "1. สร้าง object  จากคลาส Product\n",
    "2. กำหนดค่าให้กับ Produbt.Price โดยให้ค่าเป็นลบ \n",
    "3. แสดง  Produbt.Price  โดยเมธอด WriteLine()\n",
    "// พื้นที่เขียน code"
   ]
  },
  {
   "cell_type": "code",
   "execution_count": 14,
   "metadata": {
    "dotnet_interactive": {
     "language": "csharp"
    },
    "polyglot_notebook": {
     "kernelName": "csharp"
    },
    "vscode": {
     "languageId": "csharp"
    }
   },
   "outputs": [
    {
     "name": "stderr",
     "output_type": "stream",
     "text": [
      "\n",
      "(25,17): warning CS7022: The entry point of the program is global code; ignoring 'Program.Main()' entry point.\n",
      "\n"
     ]
    }
   ],
   "source": [
    "// พื้นที่เขียน codeusing System;\n",
    "\n",
    "using System;\n",
    "\n",
    "public class Product\n",
    "{\n",
    "    private decimal _price;\n",
    "\n",
    "    public decimal Price\n",
    "    {\n",
    "        get => _price;\n",
    "        set\n",
    "        {\n",
    "            if (value < 0)\n",
    "            {\n",
    "                throw new ArgumentOutOfRangeException(nameof(value), \"ราคาต้องไม่น้อยกว่า 0\");\n",
    "            }\n",
    "            _price = value;\n",
    "        }\n",
    "    }\n",
    "}\n",
    "\n",
    "class Program\n",
    "{\n",
    "    static void Main()\n",
    "    {\n",
    "        Product product = new Product();\n",
    "\n",
    "        try\n",
    "        {\n",
    "            product.Price = -299; // กำหนดราคาติดลบ\n",
    "        }\n",
    "        catch (ArgumentOutOfRangeException ex)\n",
    "        {\n",
    "            Console.WriteLine($\"เกิดข้อผิดพลาด: {ex.Message}\");\n",
    "        }\n",
    "\n",
    "        Console.WriteLine($\"ราคา: {product.Price}\"); // แสดงราคา\n",
    "    }\n",
    "}\n"
   ]
  },
  {
   "cell_type": "markdown",
   "metadata": {},
   "source": [
    "### การทดลองย่อย 10.3.4 Backing Field ในรูปแบบที่ซับซ้อนขึ้น"
   ]
  },
  {
   "cell_type": "code",
   "execution_count": 15,
   "metadata": {
    "dotnet_interactive": {
     "language": "csharp"
    },
    "polyglot_notebook": {
     "kernelName": "csharp"
    },
    "vscode": {
     "languageId": "csharp"
    }
   },
   "outputs": [
    {
     "name": "stdout",
     "output_type": "stream",
     "text": [
      "5  is odd? : True\n",
      "5  is even? : False\n"
     ]
    }
   ],
   "source": [
    "public class Countable\n",
    "{\n",
    "    private int _number;\n",
    "\n",
    "    public int Number  \n",
    "    {\n",
    "        get\n",
    "        { \n",
    "            return _number;\n",
    "        }\n",
    "        set\n",
    "        {\n",
    "            if (value > 0)\n",
    "            {\n",
    "                _number = value;\n",
    "            }\n",
    "        }\n",
    "    }\n",
    "\n",
    "    public bool IsOdd // property แบบ อ่านได้อย่างเดียว มีแต่ setter ไม่มี getter\n",
    "    { \n",
    "        get\n",
    "        {\n",
    "            if(_number % 2 == 0)\n",
    "            return false;\n",
    "            else\n",
    "            return true;\n",
    "        }\n",
    "    }\n",
    "\n",
    "    public bool IsEven // property แบบ อ่านได้อย่างเดียว มีแต่ setter ไม่มี getter\n",
    "    { \n",
    "        get\n",
    "        {\n",
    "            return !IsOdd;\n",
    "        }\n",
    "    }\n",
    "\n",
    "}\n",
    "\n",
    "Countable number = new Countable();\n",
    "number.Number = 5;\n",
    "Console.WriteLine($\"{number.Number}  is odd? : {number.IsOdd}\");\n",
    "Console.WriteLine($\"{number.Number}  is even? : {number.IsEven}\");\n"
   ]
  },
  {
   "cell_type": "markdown",
   "metadata": {},
   "source": [
    "---\n"
   ]
  },
  {
   "cell_type": "markdown",
   "metadata": {},
   "source": [
    "## การสร้างเลขสุ่ม"
   ]
  },
  {
   "cell_type": "code",
   "execution_count": 16,
   "metadata": {
    "vscode": {
     "languageId": "csharp"
    }
   },
   "outputs": [
    {
     "name": "stdout",
     "output_type": "stream",
     "text": [
      "2124354608\n",
      "571\n",
      "96\n"
     ]
    }
   ],
   "source": [
    "Random random = new Random();\n",
    "Console.WriteLine(random.Next());\n",
    "Console.WriteLine(random.Next()%10000);\n",
    "Console.WriteLine(random.Next()%100);"
   ]
  },
  {
   "cell_type": "markdown",
   "metadata": {},
   "source": [
    "### Challenge coding \n",
    "\n",
    "__จากตัวอย่างด้านบน__\n",
    "\n",
    "1. สร้าง object จากคลาส Countable\n",
    "2. ใส่ตัวเลขแบบสุ่ม (จากคลาส Random)\n",
    "3. ให้แสดงว่าตัวเลขนั้นเป็นเลขคี่หรือเลขคู่"
   ]
  },
  {
   "cell_type": "code",
   "execution_count": 17,
   "metadata": {
    "vscode": {
     "languageId": "csharp"
    }
   },
   "outputs": [
    {
     "name": "stderr",
     "output_type": "stream",
     "text": [
      "\n",
      "(10,24): warning CS7022: The entry point of the program is global code; ignoring 'Program.Main(string[])' entry point.\n",
      "\n"
     ]
    }
   ],
   "source": [
    "using System; // เพิ่ม using System สำหรับใช้คลาส Random\n",
    "\n",
    "public class Countable\n",
    "{\n",
    "    public int Value { get; set; }\n",
    "}\n",
    "\n",
    "public class Program \n",
    "{\n",
    "    public static void Main(string[] args)\n",
    "    {\n",
    "        Countable countable = new Countable(); // สร้าง object จากคลาส Countable\n",
    "        Random random = new Random(); // สร้าง object จากคลาส Random\n",
    "\n",
    "        countable.Value = random.Next(); // ใส่เลขสุ่ม\n",
    "\n",
    "        Console.WriteLine($\"เลขที่ได้: {countable.Value}\");\n",
    "\n",
    "        if (countable.Value % 2 == 0)\n",
    "        {\n",
    "            Console.WriteLine(\"เลขนี้เป็นเลขคู่\");\n",
    "        }\n",
    "        else\n",
    "        {\n",
    "            Console.WriteLine(\"เลขนี้เป็นเลขคี่\");\n",
    "        }\n",
    "    }\n",
    "}"
   ]
  }
 ],
 "metadata": {
  "kernelspec": {
   "display_name": ".NET (C#)",
   "language": "C#",
   "name": ".net-csharp"
  },
  "language_info": {
   "file_extension": ".cs",
   "mimetype": "text/x-csharp",
   "name": "C#",
   "pygments_lexer": "csharp",
   "version": "12.0"
  },
  "polyglot_notebook": {
   "kernelInfo": {
    "defaultKernelName": "csharp",
    "items": [
     {
      "aliases": [],
      "languageName": "csharp",
      "name": "csharp"
     }
    ]
   }
  }
 },
 "nbformat": 4,
 "nbformat_minor": 2
}
