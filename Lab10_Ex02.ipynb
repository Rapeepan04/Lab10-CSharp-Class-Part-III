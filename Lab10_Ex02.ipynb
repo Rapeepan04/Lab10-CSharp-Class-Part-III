{
 "cells": [
  {
   "cell_type": "markdown",
   "metadata": {},
   "source": [
    "# Lab 10  Class Part III\n"
   ]
  },
  {
   "cell_type": "markdown",
   "metadata": {},
   "source": [
    "## Ex02  การใช้งาน Property แบบ Auto-Implemented"
   ]
  },
  {
   "cell_type": "markdown",
   "metadata": {},
   "source": [
    "- โดยปกติ Property จะถูกนำมาใช้เพื่อการควบคุมการเข้าถึง field แต่ในบางกรณีเราไม่ต้องสร้าง field ก็ได้\n",
    "- คอมไพเลอร์จะสร้าง field ที่เป็น private ให้เราโดยอัตโนมัติ\n",
    "    - โดยการตั้งชื่อจะแตกต่างกันไปตามรุ่นของคอมไพเลอร์ เช่น `<Property name>k__BackingField`\n",
    "    - การพยายามเข้าถึง field ที่สร้างโดยอัตโนมัติไม่เป็นหลักการเขียนโปรแกรมที่ดี เนื่องจากถ้าเปลี่ยน version ของคอมไพเลอร์ อาจจะทำให้โปรแกรมของเราทำงานไม่ได้\n",
    "    - แต่ถ้าต้องการเข้าถึง field นั้น (เรียกจากภายในคลาสแต่ไม่ต้องการเรียกผ่าน getter/setter) ก็ต้องสร้างขึ้นมาเอง\n"
   ]
  },
  {
   "cell_type": "markdown",
   "metadata": {},
   "source": [
    "### การทดลองย่อย 10.2.1 เจาะลึก Property แบบ Auto-Implemented"
   ]
  },
  {
   "cell_type": "code",
   "execution_count": 1,
   "metadata": {
    "dotnet_interactive": {
     "language": "csharp"
    },
    "polyglot_notebook": {
     "kernelName": "csharp"
    },
    "vscode": {
     "languageId": "csharp"
    }
   },
   "outputs": [
    {
     "data": {
      "text/html": [
       "\r\n",
       "<div>\r\n",
       "    <div id='dotnet-interactive-this-cell-14136.Microsoft.DotNet.Interactive.Http.HttpPort' style='display: none'>\r\n",
       "        The below script needs to be able to find the current output cell; this is an easy method to get it.\r\n",
       "    </div>\r\n",
       "    <script type='text/javascript'>\r\n",
       "async function probeAddresses(probingAddresses) {\r\n",
       "    function timeout(ms, promise) {\r\n",
       "        return new Promise(function (resolve, reject) {\r\n",
       "            setTimeout(function () {\r\n",
       "                reject(new Error('timeout'))\r\n",
       "            }, ms)\r\n",
       "            promise.then(resolve, reject)\r\n",
       "        })\r\n",
       "    }\r\n",
       "\r\n",
       "    if (Array.isArray(probingAddresses)) {\r\n",
       "        for (let i = 0; i < probingAddresses.length; i++) {\r\n",
       "\r\n",
       "            let rootUrl = probingAddresses[i];\r\n",
       "\r\n",
       "            if (!rootUrl.endsWith('/')) {\r\n",
       "                rootUrl = `${rootUrl}/`;\r\n",
       "            }\r\n",
       "\r\n",
       "            try {\r\n",
       "                let response = await timeout(1000, fetch(`${rootUrl}discovery`, {\r\n",
       "                    method: 'POST',\r\n",
       "                    cache: 'no-cache',\r\n",
       "                    mode: 'cors',\r\n",
       "                    timeout: 1000,\r\n",
       "                    headers: {\r\n",
       "                        'Content-Type': 'text/plain'\r\n",
       "                    },\r\n",
       "                    body: probingAddresses[i]\r\n",
       "                }));\r\n",
       "\r\n",
       "                if (response.status == 200) {\r\n",
       "                    return rootUrl;\r\n",
       "                }\r\n",
       "            }\r\n",
       "            catch (e) { }\r\n",
       "        }\r\n",
       "    }\r\n",
       "}\r\n",
       "\r\n",
       "function loadDotnetInteractiveApi() {\r\n",
       "    probeAddresses([\"http://192.168.14.11:2049/\", \"http://127.0.0.1:2049/\"])\r\n",
       "        .then((root) => {\r\n",
       "        // use probing to find host url and api resources\r\n",
       "        // load interactive helpers and language services\r\n",
       "        let dotnetInteractiveRequire = require.config({\r\n",
       "        context: '14136.Microsoft.DotNet.Interactive.Http.HttpPort',\r\n",
       "                paths:\r\n",
       "            {\r\n",
       "                'dotnet-interactive': `${root}resources`\r\n",
       "                }\r\n",
       "        }) || require;\r\n",
       "\r\n",
       "            window.dotnetInteractiveRequire = dotnetInteractiveRequire;\r\n",
       "\r\n",
       "            window.configureRequireFromExtension = function(extensionName, extensionCacheBuster) {\r\n",
       "                let paths = {};\r\n",
       "                paths[extensionName] = `${root}extensions/${extensionName}/resources/`;\r\n",
       "                \r\n",
       "                let internalRequire = require.config({\r\n",
       "                    context: extensionCacheBuster,\r\n",
       "                    paths: paths,\r\n",
       "                    urlArgs: `cacheBuster=${extensionCacheBuster}`\r\n",
       "                    }) || require;\r\n",
       "\r\n",
       "                return internalRequire\r\n",
       "            };\r\n",
       "        \r\n",
       "            dotnetInteractiveRequire([\r\n",
       "                    'dotnet-interactive/dotnet-interactive'\r\n",
       "                ],\r\n",
       "                function (dotnet) {\r\n",
       "                    dotnet.init(window);\r\n",
       "                },\r\n",
       "                function (error) {\r\n",
       "                    console.log(error);\r\n",
       "                }\r\n",
       "            );\r\n",
       "        })\r\n",
       "        .catch(error => {console.log(error);});\r\n",
       "    }\r\n",
       "\r\n",
       "// ensure `require` is available globally\r\n",
       "if ((typeof(require) !==  typeof(Function)) || (typeof(require.config) !== typeof(Function))) {\r\n",
       "    let require_script = document.createElement('script');\r\n",
       "    require_script.setAttribute('src', 'https://cdnjs.cloudflare.com/ajax/libs/require.js/2.3.6/require.min.js');\r\n",
       "    require_script.setAttribute('type', 'text/javascript');\r\n",
       "    \r\n",
       "    \r\n",
       "    require_script.onload = function() {\r\n",
       "        loadDotnetInteractiveApi();\r\n",
       "    };\r\n",
       "\r\n",
       "    document.getElementsByTagName('head')[0].appendChild(require_script);\r\n",
       "}\r\n",
       "else {\r\n",
       "    loadDotnetInteractiveApi();\r\n",
       "}\r\n",
       "\r\n",
       "    </script>\r\n",
       "</div>"
      ]
     },
     "metadata": {},
     "output_type": "display_data"
    }
   ],
   "source": [
    "public class Book\n",
    "{\n",
    "    public string Title { get; set; } // Auto-implemented property\n",
    "}"
   ]
  },
  {
   "cell_type": "markdown",
   "metadata": {},
   "source": [
    "การใช้งาน property ต้องทำผ่าน object ที่สร้างจากคลาส "
   ]
  },
  {
   "cell_type": "code",
   "execution_count": 2,
   "metadata": {
    "dotnet_interactive": {
     "language": "csharp"
    },
    "polyglot_notebook": {
     "kernelName": "csharp"
    },
    "vscode": {
     "languageId": "csharp"
    }
   },
   "outputs": [
    {
     "name": "stdout",
     "output_type": "stream",
     "text": [
      "Object Oriented Programming\n"
     ]
    }
   ],
   "source": [
    "using static System.Console;    // ใช้บรรทัดนี้ เพื่อไม่ต้องเขียน Console.WriteLine() เขียนแค่ WriteLine() ก็พอ \n",
    "\n",
    "Book b = new Book();            // สร้าง  object จาก book\n",
    "\n",
    "b.Title = \"Object Oriented Programming\"; // กำหนดค่าให้ property 'Title'\n",
    "\n",
    "WriteLine(b.Title);"
   ]
  },
  {
   "cell_type": "markdown",
   "metadata": {},
   "source": [
    "แก้ไขโค้ดในคลาส Book เพื่อเพิ่มข้อความรายงานการทำงานภายใน getter และ setter"
   ]
  },
  {
   "cell_type": "code",
   "execution_count": 4,
   "metadata": {
    "dotnet_interactive": {
     "language": "csharp"
    },
    "polyglot_notebook": {
     "kernelName": "csharp"
    },
    "vscode": {
     "languageId": "csharp"
    }
   },
   "outputs": [],
   "source": [
    "public class Book\n",
    "{\n",
    "    private string title; // ประกาศฟิลด์ title\n",
    "\n",
    "    public string Title // property ชื่อ Title\n",
    "    {\n",
    "        get\n",
    "        {\n",
    "            WriteLine($\"[Getter] Value in the field title: {title}\"); // แก้ไขข้อความและเพิ่มการส่งค่า\n",
    "            return title;\n",
    "        }\n",
    "        set\n",
    "        {\n",
    "            WriteLine($\"[Setter] Value in the field title: {value}\"); // แก้ไขข้อความ\n",
    "            this.title = value; // กำหนดค่า title\n",
    "            WriteLine($\"[Setter] Value to the field title: {title}\"); // แก้ไขข้อความ\n",
    "        }\n",
    "    }\n",
    "}"
   ]
  },
  {
   "cell_type": "markdown",
   "metadata": {},
   "source": [
    "Setter (คือการกำหนดค่าให้กับ property) จะถูกเรียกใช้ก็ต่อเมื่อ\n",
    "- property อยู่ซ้ายของเครื่องหมาย =\n",
    "- สิ่งที่จะป้อนให้ property อยู่ด้านขวาของเครื่องหมาย   ="
   ]
  },
  {
   "cell_type": "code",
   "execution_count": 5,
   "metadata": {
    "dotnet_interactive": {
     "language": "csharp"
    },
    "polyglot_notebook": {
     "kernelName": "csharp"
    },
    "vscode": {
     "languageId": "csharp"
    }
   },
   "outputs": [],
   "source": [
    "b.Title = \"Network Programming\";"
   ]
  },
  {
   "cell_type": "markdown",
   "metadata": {},
   "source": [
    "Getter (คือการดึงค่าจาก property) จะถูกเรียกใช้ก็ต่อเมื่อ\n",
    "- property อยู่ขวาของเครื่องหมาย =\n",
    "- สิ่งที่จะรับค่าจาก property อยู่ด้านซ้ายของเครื่องหมาย   ="
   ]
  },
  {
   "cell_type": "code",
   "execution_count": 8,
   "metadata": {
    "dotnet_interactive": {
     "language": "csharp"
    },
    "polyglot_notebook": {
     "kernelName": "csharp"
    },
    "vscode": {
     "languageId": "csharp"
    }
   },
   "outputs": [],
   "source": [
    "var bookTitle = b.Title;"
   ]
  },
  {
   "cell_type": "markdown",
   "metadata": {},
   "source": [
    "### การทดลองย่อย 10.2.2 ใช้งาน Property แบบ Auto-Implemented ร่วมกับแบบปกติ"
   ]
  },
  {
   "cell_type": "code",
   "execution_count": 10,
   "metadata": {
    "dotnet_interactive": {
     "language": "csharp"
    },
    "polyglot_notebook": {
     "kernelName": "csharp"
    },
    "vscode": {
     "languageId": "csharp"
    }
   },
   "outputs": [],
   "source": [
    "public class Student\n",
    "{\n",
    "    public string Name { get; set; }\n",
    "    private int _age;\n",
    "\n",
    "    public int Age\n",
    "    {\n",
    "        get { return _age; }\n",
    "        set\n",
    "        {\n",
    "            if (value >= 0)\n",
    "            {\n",
    "                _age = value;\n",
    "            }\n",
    "        }\n",
    "    }\n",
    "}"
   ]
  },
  {
   "cell_type": "markdown",
   "metadata": {},
   "source": [
    "ให้เขียน code เพื่อทำงานดังนี้\n",
    "1. สร้าง object  'stu' จากคลาส Student\n",
    "2. กำหนดชื่อให้ 'stu' ผ่าน property 'Name'\n",
    "3. กำหนดอายุให้ 'stu' ผ่าน property 'Age'"
   ]
  },
  {
   "cell_type": "code",
   "execution_count": 11,
   "metadata": {
    "dotnet_interactive": {
     "language": "csharp"
    },
    "polyglot_notebook": {
     "kernelName": "csharp"
    },
    "vscode": {
     "languageId": "csharp"
    }
   },
   "outputs": [
    {
     "name": "stdout",
     "output_type": "stream",
     "text": [
      "Name: รพี, Age: 20\n"
     ]
    }
   ],
   "source": [
    "public class Student\n",
    "{\n",
    "    public string Name { get; set; }\n",
    "    public int Age { get; set; }\n",
    "}\n",
    "Student stu = new();\n",
    "\n",
    "stu.Name = \"รพี\"; // กำหนดชื่อ\n",
    "stu.Age = 20;     // กำหนดอายุ\n",
    "\n",
    "WriteLine($\"Name: {stu.Name}, Age: {stu.Age}\"); // แสดงผล"
   ]
  },
  {
   "cell_type": "markdown",
   "metadata": {},
   "source": [
    "ให้เขียน code เพื่อทำงานดังนี้\n",
    "1. สร้าง object  'stu1' จากคลาส Student\n",
    "2. กำหนดชื่อให้ 'stu1' ผ่าน property 'Name'\n",
    "3. กำหนดอายุให้ 'stu1' ผ่าน property 'Age' โดยที่กำหนดอายุให้เป็นค่าลบ"
   ]
  },
  {
   "cell_type": "code",
   "execution_count": 12,
   "metadata": {
    "dotnet_interactive": {
     "language": "csharp"
    },
    "polyglot_notebook": {
     "kernelName": "csharp"
    },
    "vscode": {
     "languageId": "csharp"
    }
   },
   "outputs": [
    {
     "name": "stdout",
     "output_type": "stream",
     "text": [
      "Name = กิม, Age = -20\n"
     ]
    }
   ],
   "source": [
    "public class Student\n",
    "{\n",
    "    public string Name { get; set; }\n",
    "    public int Age { get; set; }\n",
    "}\n",
    "Student stu1 = new(); // สร้าง object ชื่อ stu1 จากคลาส Student\n",
    "\n",
    "stu1.Name = \"กิม\"; // กำหนดชื่อให้ stu1 ผ่าน property Name\n",
    "\n",
    "stu1.Age = -20;    // กำหนดอายุให้ stu1 ผ่าน property Age โดยกำหนดค่าเป็นลบ\n",
    "\n",
    "WriteLine($\"Name = {stu1.Name}, Age = {stu1.Age}\"); // แสดงผล"
   ]
  },
  {
   "cell_type": "markdown",
   "metadata": {},
   "source": [
    "### เพิ่มเติม (จาก Gemini)\n",
    "\n",
    "\n",
    "มีหลายวิธีที่สามารถดูชื่อของ field ที่คอมไพเลอร์สร้างให้สำหรับ auto-implemented property ได้\n",
    "\n",
    "__1. ใช้โปรแกรม decompiler__\n",
    "- __.NET Reflector__ เป็นเครื่องมือ decompiler ที่ได้รับความนิยม สามารถใช้ตรวจสอบ IL code (Intermediate Language) ของ assembly และดูชื่อ field ที่คอมไพเลอร์สร้างขึ้น\n",
    "- __ILSpy__ เป็นเครื่องมือ decompiler open-source ที่ใช้งานได้ฟรี มีความสามารถในการแสดง IL code และชื่อ field ที่เกี่ยวข้องกับ auto-implemented property\n",
    "\n",
    "__2. ใช้ Debugger__\n",
    "- เปิดโปรแกรม Visual Studio และตั้ง breakpoint ใน method ที่มีการใช้งาน auto-implemented property\n",
    "- รันโปรแกรมในโหมด Debug (เหมือนที่เคยทำให้ดูในชั้นเรียนเมื่อสัปดาห์ก่อน)\n",
    "- เมื่อโปรแกรมหยุดที่ breakpoint ให้ตรวจสอบค่าของ property ในหน้าต่าง Watch หรือ Locals จะเห็นชื่อ field ที่คอมไพเลอร์สร้างขึ้น\n",
    "\n",
    "__3. ตรวจสอบ IL code โดยตรง__\n",
    "- ใช้เครื่องมือเช่น ildasm.exe (Intermediate Language Disassembler) ที่มาพร้อมกับ Visual Studio เพื่อดู IL code ของ assembly\n",
    "- ใน IL code จะเห็นคำสั่งที่เกี่ยวข้องกับการเข้าถึง field ซึ่งจะแสดงชื่อ field ที่คอมไพเลอร์สร้างขึ้น\n",
    "__ข้อควรระวัง__\n",
    "- ชื่อ field ที่คอมไพเลอร์สร้างขึ้นอาจมีการเปลี่ยนแปลงในแต่ละ version ของคอมไพเลอร์\n",
    "- การเข้าถึง field โดยตรง (ผ่านชื่อที่ค้นพบ) ถือเป็นแนวทางการปฏิบัติที่ไม่ดีนัก และอาจทำให้โค้ดไม่สามารถทำงานได้อย่างถูกต้องในอนาคต"
   ]
  }
 ],
 "metadata": {
  "kernelspec": {
   "display_name": ".NET (C#)",
   "language": "C#",
   "name": ".net-csharp"
  },
  "language_info": {
   "file_extension": ".cs",
   "mimetype": "text/x-csharp",
   "name": "C#",
   "pygments_lexer": "csharp",
   "version": "12.0"
  },
  "polyglot_notebook": {
   "kernelInfo": {
    "defaultKernelName": "csharp",
    "items": [
     {
      "aliases": [],
      "languageName": "csharp",
      "name": "csharp"
     }
    ]
   }
  }
 },
 "nbformat": 4,
 "nbformat_minor": 2
}
